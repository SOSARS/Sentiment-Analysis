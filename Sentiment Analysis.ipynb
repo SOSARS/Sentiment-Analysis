{
 "cells": [
  {
   "cell_type": "markdown",
   "metadata": {
    "colab_type": "text",
    "id": "eHGm8RQlK46m"
   },
   "source": [
    "# Dataset Retrieval & Exploration"
   ]
  },
  {
   "cell_type": "code",
   "execution_count": 1,
   "metadata": {
    "colab": {},
    "colab_type": "code",
    "id": "-erlYw1jXtgh"
   },
   "outputs": [],
   "source": [
    "import matplotlib.pyplot as plt\n",
    "from matplotlib import pyplot\n",
    "import numpy as np\n",
    "import re"
   ]
  },
  {
   "cell_type": "code",
   "execution_count": 2,
   "metadata": {
    "colab": {},
    "colab_type": "code",
    "id": "goZIhX8nII4T"
   },
   "outputs": [],
   "source": [
    "# Make results reproducible - set random seed\n",
    "from numpy.random import seed\n",
    "seed(42)"
   ]
  },
  {
   "cell_type": "code",
   "execution_count": 3,
   "metadata": {
    "colab": {},
    "colab_type": "code",
    "id": "v_fEysQHII4W",
    "tags": []
   },
   "outputs": [],
   "source": [
    "negative_file = \"negative.txt\"\n",
    "positive_file = \"positive.txt\""
   ]
  },
  {
   "cell_type": "code",
   "execution_count": 4,
   "metadata": {
    "colab": {},
    "colab_type": "code",
    "id": "0rWm4yycII4Y",
    "tags": []
   },
   "outputs": [],
   "source": [
    "# Do not modify - helper function to load and preprocess data\n",
    "def filter_words(line):    \n",
    "    line = re.sub(r'[^\\w\\s]','',line.rstrip())\n",
    "    words = line.split(\" \") \n",
    "    words = [i.lower() for i in words if i]      \n",
    "    return \" \".join(words)\n",
    "\n",
    "def load_data(filename):\n",
    "    thefile = open(filename, 'r') \n",
    "    lines = thefile.readlines() \n",
    "\n",
    "    data = []\n",
    "    for l in range(0,len(lines)): \n",
    "        if(lines[l-1].strip() == \"<title>\"): \n",
    "            theline = filter_words(lines[l])\n",
    "            if(len(theline) < 50):\n",
    "                data.append(theline)            \n",
    "            \n",
    "    return data\n",
    "\n",
    "# Helper function to convert categorical data to class label\n",
    "def to_word_label(y):\n",
    "    y = to_class(y)   \n",
    "    return [\"positive\" if i==0 else \"negative\" for i in y]\n",
    "\n",
    "# Helper function to convert class label to numeric label\n",
    "def to_numeric_label(y):\n",
    "  return [0 if i==\"positive\" else 1 for i in word_labels]\n",
    "\n",
    "# Helper function: this function needs to be called before sending arrays to sklearn metrics,\n",
    "# it converts back to class form from categorical form. ie: [1,0] --> 0, [0,1] --> 1\n",
    "def to_class(y):\n",
    "    return np.argmax(y,axis=1) "
   ]
  },
  {
   "cell_type": "code",
   "execution_count": 5,
   "metadata": {
    "colab": {
     "base_uri": "https://localhost:8080/",
     "height": 70
    },
    "colab_type": "code",
    "id": "jjGUiFm9II4b",
    "outputId": "aa5eb89b-85f2-4d61-f33a-b00361b19a41",
    "tags": []
   },
   "outputs": [
    {
     "name": "stdout",
     "output_type": "stream",
     "text": [
      "['one of the best crichton novels', 'the medicine of the future', 'beautiful', 'for lovers of robicheaux', 'a good book', 'to the point and beautifully illustrated', 'at least somebody has got it', 'beautifully written heartwarming story', 'an excellent cookbook full of delicious recipes', 'an outstanding resource']\n",
      "['horrible book horrible', 'shallow selfindulgence', 'horrible book horrible', 'disappointment', 'a disappointing mess', 'save your money there are better books out there', 'thank you but no thanks', 'unendurable', 'the hard way', 'some good info among the political commercial']\n"
     ]
    }
   ],
   "source": [
    "positive = load_data(positive_file)\n",
    "negative = load_data(negative_file)\n",
    "\n",
    "print(positive[0:10])\n",
    "print(negative[0:10])"
   ]
  },
  {
   "cell_type": "code",
   "execution_count": 105,
   "metadata": {
    "colab": {},
    "colab_type": "code",
    "id": "yrgEYOOCII4d",
    "tags": []
   },
   "outputs": [],
   "source": [
    "# Do not modify - Combines the positive and negative reviews into a single list and create labels\n",
    "data = positive + negative\n",
    "word_labels = [\"positive\"] * len(positive) + [\"negative\"] * len(negative) \n",
    "\n",
    "# Converts labels to numbers in one-hot encoding - [1, 0] (positive) or [0, 1] (negative)\n",
    "from keras.utils import to_categorical\n",
    "labels = to_categorical(to_numeric_label(word_labels))"
   ]
  },
  {
   "cell_type": "code",
   "execution_count": 59,
   "metadata": {
    "colab": {},
    "colab_type": "code",
    "id": "97Uh2uBpII4l",
    "tags": []
   },
   "outputs": [
    {
     "name": "stdout",
     "output_type": "stream",
     "text": [
      "Average review size = 24.751357220412594 characters\n",
      "Standard deviation = 11.380501297208287\n",
      "There are 1793 unique words\n"
     ]
    },
    {
     "data": {
      "image/png": "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\n",
      "text/plain": [
       "<Figure size 432x288 with 1 Axes>"
      ]
     },
     "metadata": {
      "needs_background": "light"
     },
     "output_type": "display_data"
    }
   ],
   "source": [
    "# Code to investigate the data \n",
    "\n",
    "# - Calculating and reporting the mean review size, its standard deviation, and creating a boxplot.\n",
    "temp = [len(element) for element in negative]\n",
    "average = 0 if len(temp) == 0 else (float(sum(temp)) / len(temp))\n",
    "print(f\"Average review size = {average} characters\")\n",
    "print(f\"Standard deviation = {np.std(temp)}\")\n",
    "plt.title(\"Box Plot of the varying sizes of review lengths\")\n",
    "plt.ylabel(\"Number of characters\")\n",
    "plt.xlabel(\"Word\")\n",
    "plt.boxplot(temp)\n",
    "\n",
    "# - Assesing the number of unique words in the dataset\n",
    "unique_words = []\n",
    "count = 0\n",
    "\n",
    "for words in data:\n",
    "    words.split()\n",
    "    if words.split() not in unique_words:\n",
    "        unique_words.append(words)\n",
    "        count += 1\n",
    "print(f\"There are {count} unique words\")\n",
    "\n",
   ]
  },
  {
   "cell_type": "code",
   "execution_count": 60,
   "metadata": {
    "colab": {
     "base_uri": "https://localhost:8080/",
     "height": 50
    },
    "colab_type": "code",
    "id": "_XXnArgcII4i",
    "outputId": "020b2ee2-4c2a-4bc0-bb55-e2ae3841fe57",
    "tags": []
   },
   "outputs": [
    {
     "name": "stdout",
     "output_type": "stream",
     "text": [
      "['one of the best crichton novels', 'the medicine of the future', 'beautiful', 'for lovers of robicheaux', 'a good book']\n",
      "[[18, 4, 2, 19], [2, 4, 2], [], [6, 4], [1, 12, 3]]\n"
     ]
    }
   ],
   "source": [
    "# Do not modify - Tokenize the vocabulary \n",
    "from keras.preprocessing.text import Tokenizer\n",
    "\n",
    "tokenizer = Tokenizer(num_words=25)\n",
    "\n",
    "tokenizer.fit_on_texts(data) #create the vocabularry\n",
    "\n",
    "tokenized_data = tokenizer.texts_to_sequences(data) #tokenize the data using the vocabulary\n",
    "\n",
    "vocab_size = len(tokenizer.word_index) + 1 \n",
    "\n",
    "# Comparing a sample of the data before and after tokenization\n",
    "print(data[0:5])\n",
    "print(tokenized_data[0:5])"
   ]
  },
  {
   "cell_type": "markdown",
   "metadata": {
    "colab_type": "text",
    "id": "_vsMmLjdK1Gf"
   },
   "source": [
    "# Pre-processing"
   ]
  },
  {
   "cell_type": "code",
   "execution_count": 64,
   "metadata": {},
   "outputs": [],
   "source": [
    "import tensorflow\n",
    "from tensorflow import keras\n",
    "from keras_preprocessing.sequence import pad_sequences\n",
    "from keras import regularizers"
   ]
  },
  {
   "cell_type": "code",
   "execution_count": 85,
   "metadata": {
    "colab": {},
    "colab_type": "code",
    "id": "24DaXd1zII4q",
    "tags": []
   },
   "outputs": [
    {
     "data": {
      "text/plain": [
       "array([[18,  4,  2, 19],\n",
       "       [ 0,  2,  4,  2],\n",
       "       [ 0,  0,  0,  0],\n",
       "       ...,\n",
       "       [ 0,  0,  0,  0],\n",
       "       [ 0,  0,  0,  6],\n",
       "       [ 0,  0,  0,  0]])"
      ]
     },
     "execution_count": 85,
     "metadata": {},
     "output_type": "execute_result"
    }
   ],
   "source": [
    "# Pre-processing\n",
    "# Code to pre-process the data so that each review is the same length\n",
    "\n",
    "# Setting the length of each review to a maximum length of 4 words\n",
    "reviews = pad_sequences(tokenized_data, maxlen = 4)\n",
    "reviews"
   ]
  },
  {
   "cell_type": "code",
   "execution_count": 80,
   "metadata": {},
   "outputs": [],
   "source": [
    "# Imports to compile the model\n",
    "from sklearn.model_selection import train_test_split\n",
    "from keras.models import Sequential\n",
    "from keras import layers\n",
    "from keras.layers import Embedding, SpatialDropout1D, Dense, BatchNormalization, LSTM"
   ]
  },
  {
   "cell_type": "code",
   "execution_count": 166,
   "metadata": {
    "colab": {},
    "colab_type": "code",
    "id": "AFTJcFy6II4s",
    "tags": []
   },
   "outputs": [],
   "source": [
    "# Write some code to split the data into a training and test set. Make sure you shuffle the data. Use 20% for the test set.\n",
    "\n",
    "x_train, x_test, y_train, y_test = train_test_split(reviews, labels, test_size = 0.2, random_state = 0, shuffle = True)"
   ]
  },
  {
   "cell_type": "code",
   "execution_count": 124,
   "metadata": {},
   "outputs": [],
   "source": [
    "# Building the model\n",
    "model = Sequential()\n",
    "model.add(Embedding(25, 12))\n",
    "model.add(SpatialDropout1D(0.2))\n",
    "model.add(BatchNormalization())\n",
    "model.add(LSTM(32, dropout = 0.25))\n",
    "model.add(Dense(2, activation = \"softmax\"))\n",
    "\n",
    "model.compile(optimizer = \"adam\",loss = \"binary_crossentropy\", metrics = [\"accuracy\"])"
   ]
  },
  {
   "cell_type": "code",
   "execution_count": 168,
   "metadata": {},
   "outputs": [
    {
     "name": "stdout",
     "output_type": "stream",
     "text": [
      "(1434, 4)\n",
      "(1434, 2)\n"
     ]
    }
   ],
   "source": [
    "print(f\"{x_train.shape}\")\n",
    "print(f\"{y_train.shape}\")"
   ]
  },
  {
   "cell_type": "code",
   "execution_count": 169,
   "metadata": {
    "colab": {
     "base_uri": "https://localhost:8080/",
     "height": 128
    },
    "colab_type": "code",
    "id": "lDth1BSzII4u",
    "outputId": "4614049a-7151-4407-9bc8-54604bbe7fdd"
   },
   "outputs": [
    {
     "name": "stdout",
     "output_type": "stream",
     "text": [
      "Epoch 1/5\n",
      "144/144 [==============================] - 1s 5ms/step - loss: 0.6408 - accuracy: 0.6255\n",
      "Epoch 2/5\n",
      "144/144 [==============================] - 1s 5ms/step - loss: 0.6440 - accuracy: 0.6095\n",
      "Epoch 3/5\n",
      "144/144 [==============================] - 1s 5ms/step - loss: 0.6371 - accuracy: 0.6290\n",
      "Epoch 4/5\n",
      "144/144 [==============================] - 1s 6ms/step - loss: 0.6395 - accuracy: 0.6220\n",
      "Epoch 5/5\n",
      "144/144 [==============================] - 1s 5ms/step - loss: 0.6389 - accuracy: 0.6206\n",
      "12/12 [==============================] - 1s 4ms/step\n",
      "[[0.39985317 0.6001468 ]\n",
      " [0.39985317 0.6001468 ]\n",
      " [0.6061657  0.39383438]\n",
      " [0.9241594  0.07584053]\n",
      " [0.99782085 0.00217914]\n",
      " [0.6061657  0.39383438]\n",
      " [0.7920023  0.20799775]]\n"
     ]
    }
   ],
   "source": [
    "from sklearn.metrics import confusion_matrix, precision_score, recall_score, f1_score\n",
    "\n",
    "# Fill in the following function so it\n",
    "# - makes a prediction for the test set given the model\n",
    "model.fit(x_train, y_train, epochs = 5, batch_size = 10)\n",
    "predictions = model.predict(x_test)\n",
    "print(f\"{predictions[:7]}\")\n",
    "\n",
    "\n",
    "# - reports the precision, recall and f1 score. Also print the confusion matrix. \n",
    "# You will need to use the helper to_class function to convert y_pred and y_test before supplying them to the sklearn functions."
   ]
  },
  {
   "cell_type": "code",
   "execution_count": 170,
   "metadata": {},
   "outputs": [],
   "source": [
    "def model_predictions(model, x_test):      \n",
    "    \n",
    "    # Fitting the data to the model and generating predictions\n",
    "    model = model.fit(x_train, y_train, epochs = 5, batch_size = 10)\n",
    "    predictions = model.predict(x_test)\n",
    "\n",
    "    # Converting data using the helper function \n",
    "    y_test = to_class(y_test)\n",
    "    predictions = to_class(predictions)\n",
    "    \n",
    "def model_scores(y_test, predictions):\n",
    "    y_test = to_class(y_test)\n",
    "    predictions = to_class(predictions)\n",
    "    f1score = f1_score(y_test, predictions)\n",
    "    precision = precision_score(y_test, predictions)\n",
    "    recall = recall_score(y_test, predictions)\n",
    "\n",
    "    print(f\"Model f1 score = {f1score}\")\n",
    "    print(f\"Model precision = {precision}\")\n",
    "    print(f\"Model recall = {recall}\")"
   ]
  },
  {
   "cell_type": "markdown",
   "metadata": {},
   "source": [
    "### Confusion Matrix"
   ]
  },
  {
   "cell_type": "code",
   "execution_count": 145,
   "metadata": {},
   "outputs": [],
   "source": [
    "# Generating the confusion matrix\n",
    "from sklearn import metrics\n",
    "\n",
    "def generate_confusion_matrix(y_test, predictions):\n",
    "    conf_matrix = confusion_matrix(y_test, predictions)\n",
    "    matrix = metrics.ConfusionMatrixDisplay(confusion_matrix = conf_matrix, display_labels = [False, True])\n",
    "\n",
    "    matrix.plot()\n",
    "    plt.show()"
   ]
  },
  {
   "cell_type": "code",
   "execution_count": 146,
   "metadata": {},
   "outputs": [
    {
     "data": {
      "image/png": "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\n",
      "text/plain": [
       "<Figure size 432x288 with 2 Axes>"
      ]
     },
     "metadata": {
      "needs_background": "light"
     },
     "output_type": "display_data"
    }
   ],
   "source": [
    "generate_confusion_matrix(y_test, predictions)"
   ]
  },
  {
   "cell_type": "markdown",
   "metadata": {
    "colab_type": "text",
    "id": "nTqLbbE6MpGt"
   },
   "source": [
    "# Build and tune model"
   ]
  },
  {
   "cell_type": "markdown",
   "metadata": {
    "colab_type": "text",
    "id": "3X70rA4uMXNv"
   },
   "source": [
    "Define network architecture"
   ]
  },
  {
   "cell_type": "code",
   "execution_count": 150,
   "metadata": {
    "colab": {},
    "colab_type": "code",
    "id": "wKoXWKG4II5F"
   },
   "outputs": [],
   "source": [
    "model = Sequential()\n",
    "model.add(Embedding(25, 12))\n",
    "model.add(SpatialDropout1D(0.2))\n",
    "model.add(BatchNormalization())\n",
    "model.add(LSTM(32, dropout = 0.25))\n",
    "model.add(Dense(2, activation = \"softmax\"))\n",
    "\n",
    "model.compile(optimizer = \"adam\", loss = \"binary_crossentropy\", metrics = [\"accuracy\"])"
   ]
  },
  {
   "cell_type": "markdown",
   "metadata": {
    "colab_type": "text",
    "id": "llS0-VKBMbz-"
   },
   "source": [
    "Train model"
   ]
  },
  {
   "cell_type": "code",
   "execution_count": 175,
   "metadata": {
    "colab": {},
    "colab_type": "code",
    "id": "F5IJs0QuMe_I"
   },
   "outputs": [
    {
     "name": "stdout",
     "output_type": "stream",
     "text": [
      "Epoch 1/5\n",
      "144/144 [==============================] - 1s 5ms/step - loss: 0.6295 - accuracy: 0.6269\n",
      "Epoch 2/5\n",
      "144/144 [==============================] - 1s 6ms/step - loss: 0.6195 - accuracy: 0.6416\n",
      "Epoch 3/5\n",
      "144/144 [==============================] - 1s 6ms/step - loss: 0.6292 - accuracy: 0.6234\n",
      "Epoch 4/5\n",
      "144/144 [==============================] - 1s 5ms/step - loss: 0.6260 - accuracy: 0.6185\n",
      "Epoch 5/5\n",
      "144/144 [==============================] - 1s 6ms/step - loss: 0.6192 - accuracy: 0.6304\n"
     ]
    }
   ],
   "source": [
    "history = model.fit(x_train, y_train, epochs = 5, batch_size = 10)"
   ]
  },
  {
   "cell_type": "markdown",
   "metadata": {
    "colab_type": "text",
    "id": "rniBBEiyMRKD"
   },
   "source": [
    "Examine performance of model"
   ]
  },
  {
   "cell_type": "code",
   "execution_count": 176,
   "metadata": {
    "colab": {},
    "colab_type": "code",
    "id": "eBVogHg2II5T",
    "tags": []
   },
   "outputs": [
    {
     "name": "stdout",
     "output_type": "stream",
     "text": [
      "Model f1 score = 0.6195652173913043\n",
      "Model precision = 0.6096256684491979\n",
      "Model recall = 0.6298342541436464\n"
     ]
    }
   ],
   "source": [
    "# Returning the performance scores of the model\n",
    "model_scores(y_test, predictions)"
   ]
  },
  {
   "cell_type": "markdown",
   "metadata": {},
   "source": [
    "#### F1-Score:\n",
    "The f1 score of the model, sitting at ~0.62 indicates that the model is likely to get more than half the predictions correct. 0.62 is closer to 1 than that of 0, highlighting that the model is somewhat effective with room for improvements.\n",
    "\n",
    "#### Precision:\n",
    "As with the f1 score, precision is not very high, thought the performance score sits closer to 1 than that of 0. The score suggests that the model is likely to predict a false-positive or false-negative though will be correct in the larger sum of predictions.\n",
    "\n",
    "#### Recall:\n",
    "The recall score being of a value closer to 1 than that of 0 indicates that the model is decent at correctly identifying the number of accuracte predictions generated. This score can be improved with model tuning however.\n"
   ]
  },
  {
   "cell_type": "markdown",
   "metadata": {
    "colab_type": "text",
    "id": "HB8kzt-IME4U"
   },
   "source": [
    "Plot graphs for accuracy and loss"
   ]
  },
  {
   "cell_type": "code",
   "execution_count": 188,
   "metadata": {
    "colab": {},
    "colab_type": "code",
    "id": "hPyJ78unMJUI"
   },
   "outputs": [
    {
     "data": {
      "image/png": "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\n",
      "text/plain": [
       "<Figure size 432x288 with 1 Axes>"
      ]
     },
     "metadata": {
      "needs_background": "light"
     },
     "output_type": "display_data"
    }
   ],
   "source": [
    "plt.plot(history.history[\"accuracy\"])\n",
    "plt.plot(history.history[\"loss\"])\n",
    "plt.title(\"Model Performance: Accuracy vs Loss\")\n",
    "plt.ylabel(\"Accuracy\")\n",
    "plt.xlabel(\"Epoch\")\n",
    "plt.xticks(range(0, 6))\n",
    "plt.legend([\"Accuracy\", \"Loss\"], loc = \"upper right\")\n",
    "plt.show()"
   ]
  },
  {
   "cell_type": "markdown",
   "metadata": {},
   "source": [
    "The graph above indicates that the optimal number of epochs is 1 as accuracy suffers and loss increases after the first epoch. However, accuracy increases and loss decreases after the 4th epoch. This may suggest that epochs ranging from 4 - 10 would be optimal to determine the best performance of the model and prevent overfitting."
   ]
  },
  {
   "cell_type": "markdown",
   "metadata": {
    "colab_type": "text",
    "id": "eAZ1LyFBMLoK"
   },
   "source": [
    "# Make a prediction"
   ]
  },
  {
   "cell_type": "code",
   "execution_count": 191,
   "metadata": {
    "colab": {},
    "colab_type": "code",
    "id": "vfPM5LokII5V",
    "tags": []
   },
   "outputs": [
    {
     "name": "stdout",
     "output_type": "stream",
     "text": [
      "1/1 [==============================] - 0s 19ms/step\n"
     ]
    }
   ],
   "source": [
    "# This is a very small set of completed new data to use to make predictions.\n",
    "maxlen = 4\n",
    "prediction_data = [\"this book is fabulous\",\"i hated this book\", \"the best\", \"no good\", \"okay\"]\n",
    "tokenized = tokenizer.texts_to_sequences(prediction_data)\n",
    "padded = pad_sequences(tokenized, padding = \"post\", maxlen = maxlen)\n",
    "\n",
    "# Supply this data to each of your models and see how it does. \n",
    "# You can call the helper function \"to_word_label\" to map the output of the model to the name of the\n",
    "# class it was predicted to belong to.\n",
    "\n",
    "prediction = model.predict(padded)\n",
    "result = to_word_label(prediction)"
   ]
  },
  {
   "cell_type": "code",
   "execution_count": 192,
   "metadata": {},
   "outputs": [
    {
     "data": {
      "text/plain": [
       "['negative', 'negative', 'positive', 'negative', 'negative']"
      ]
     },
     "execution_count": 192,
     "metadata": {},
     "output_type": "execute_result"
    }
   ],
   "source": [
    "result"
   ]
  },
  {
   "cell_type": "markdown",
   "metadata": {},
   "source": [
    "The model performs at a somewhat acceptable level. I am quite pleased to see that the model was able to classify the \"no good\" comment as negative. As for the last result, many could argue that \"okay\" is not a positive label and is more neutral. Many would classify it as more negative than positive so some leeway must be given to the model. 80% performance is acceptable for a model such as this. More parameter tuning may lead to better results."
   ]
  }
 ],
 "metadata": {
  "colab": {
   "collapsed_sections": [],
   "name": "L3T20.ipynb",
   "provenance": []
  },
  "kernelspec": {
   "display_name": "Python 3 (ipykernel)",
   "language": "python",
   "name": "python3"
  },
  "language_info": {
   "codemirror_mode": {
    "name": "ipython",
    "version": 3
   },
   "file_extension": ".py",
   "mimetype": "text/x-python",
   "name": "python",
   "nbconvert_exporter": "python",
   "pygments_lexer": "ipython3",
   "version": "3.9.12"
  }
 },
 "nbformat": 4,
 "nbformat_minor": 1
}
